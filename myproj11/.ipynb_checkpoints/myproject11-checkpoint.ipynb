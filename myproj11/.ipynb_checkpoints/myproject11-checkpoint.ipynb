{
 "cells": [
  {
   "cell_type": "code",
   "execution_count": null,
   "id": "a401083e",
   "metadata": {},
   "outputs": [],
   "source": [
    "3 + 2 # shift + enter"
   ]
  },
  {
   "cell_type": "code",
   "execution_count": null,
   "id": "e5a8a968",
   "metadata": {},
   "outputs": [],
   "source": [
    "import xlwings"
   ]
  },
  {
   "cell_type": "code",
   "execution_count": null,
   "id": "8e7a078a",
   "metadata": {},
   "outputs": [],
   "source": [
    "xlwings.Range(\"A1\")"
   ]
  },
  {
   "cell_type": "code",
   "execution_count": null,
   "id": "fad85c5a",
   "metadata": {},
   "outputs": [],
   "source": [
    "total_rows = xlwings.Range(\"A1\").expand().value\n",
    "total_rows"
   ]
  },
  {
   "cell_type": "code",
   "execution_count": null,
   "id": "cac5ba72",
   "metadata": {},
   "outputs": [],
   "source": [
    "column_names = total_rows[0]\n",
    "column_names"
   ]
  },
  {
   "cell_type": "code",
   "execution_count": null,
   "id": "5fd24947",
   "metadata": {},
   "outputs": [],
   "source": [
    "for row in total_rows[1:]:\n",
    "    row_dict = dict(zip(column_names. row))\n",
    "    print(row_dict)"
   ]
  },
  {
   "cell_type": "code",
   "execution_count": null,
   "id": "fa4a6228",
   "metadata": {},
   "outputs": [],
   "source": [
    "# list comprehension\n",
    "rows_data = [\n",
    "    dict(zip(column_names. row))\n",
    "    for row in total_rows[1:]\n",
    "]\n",
    "rows_data()"
   ]
  },
  {
   "cell_type": "markdown",
   "id": "77099602",
   "metadata": {},
   "source": [
    "# 정리"
   ]
  },
  {
   "cell_type": "code",
   "execution_count": null,
   "id": "1905a049",
   "metadata": {},
   "outputs": [],
   "source": [
    "def get_rows_data():\n",
    "    total_rows = xlwings.Range(\"A1\").expand().value\n",
    "    column_names = total_rows[0]\n",
    "    rows_data = [\n",
    "        dict(zip(column_names. row))\n",
    "        for row in total_rows[1:]\n",
    "    ]\n",
    "    return row_data\n",
    "\n",
    "get_rows_data()"
   ]
  },
  {
   "cell_type": "markdown",
   "id": "e8725472",
   "metadata": {},
   "source": [
    "# 데이터베이스 접속"
   ]
  },
  {
   "cell_type": "markdown",
   "id": "49a14c26",
   "metadata": {},
   "source": [
    "#### "
   ]
  },
  {
   "cell_type": "code",
   "execution_count": null,
   "id": "93450a45",
   "metadata": {},
   "outputs": [],
   "source": [
    "DATABASE = {\n",
    "    \"host\": \"127.0.0.1\",\n",
    "    \"user\": \"root\",\n",
    "    \"password\": \"1234\",\n",
    "    \"db\": \"myproj11_db\",\n",
    "    \"charset\": \"utf8\",\n",
    "}"
   ]
  },
  {
   "cell_type": "code",
   "execution_count": null,
   "id": "f3fccf0a",
   "metadata": {},
   "outputs": [],
   "source": [
    "import pymysql\n",
    "\n",
    "connection = pymysql.connect(**DATABASE)\n",
    "cursor = connection.cursor()\n",
    "cursor.execute(\"SELECT * FROM log\")\n",
    "print(cursor.fetchall())\n",
    "cursor.close()"
   ]
  },
  {
   "cell_type": "markdown",
   "id": "50d06784",
   "metadata": {},
   "source": [
    "# with절"
   ]
  },
  {
   "cell_type": "code",
   "execution_count": null,
   "id": "7bd820de",
   "metadata": {},
   "outputs": [],
   "source": [
    "import pymysql\n",
    "from contextlib import contextmanager\n",
    "\n",
    "@contextmanager\n",
    "def db_cursor():\n",
    "    connection = pymysql.connect(**DATABASE)\n",
    "    cursor = connection.cursor()\n",
    "    try:\n",
    "        yield cursor\n",
    "    finally:\n",
    "        cursor.close()\n",
    "    "
   ]
  },
  {
   "cell_type": "code",
   "execution_count": null,
   "id": "7d8aad83",
   "metadata": {},
   "outputs": [],
   "source": [
    "with db_cursor() as cursor:\n",
    "    cursor.execute(\"SELECT * FROM log\")\n",
    "    print(cursor.fetchall())"
   ]
  },
  {
   "cell_type": "code",
   "execution_count": null,
   "id": "6939007f",
   "metadata": {},
   "outputs": [],
   "source": [
    "column_data = {'message': '첫 로그', 'browser': 'chrome'}\n",
    "\n",
    "with db_cursor() as cursor:\n",
    "    for row_dict in get_rows_data():\n",
    "        sql = \"INSERT INTO LOG(message, browser) VALUES(%(message)s, %(browser)s)\"\n",
    "        cursor.execute(sql, row_dict)"
   ]
  },
  {
   "cell_type": "markdown",
   "id": "59d208e3",
   "metadata": {},
   "source": [
    "SQL injection 공격의 예"
   ]
  },
  {
   "cell_type": "code",
   "execution_count": null,
   "id": "fc2120e2",
   "metadata": {},
   "outputs": [],
   "source": [
    "with db_cursor() as cursor:\n",
    "    log_id = '1 or 1'\n",
    "#     sql = \"SELECT * FROM LOG WHERE id = \" + str(log_id)\n",
    "#     sql = \"SELECT * FROM LOG WHERE id = 1 or 1\"\n",
    "    sql = \"SELECT * FROM LOG WHERE id = %s\"\n",
    "    cursor.execute(sql)\n",
    "#     while True:\n",
    "#         row = cursor.fetchone()\n",
    "#         print(row)\n",
    "#         if row is None:\n",
    "#             break\n",
    "#     print(row)\n",
    "    for row in cursor:\n",
    "        print(now)"
   ]
  },
  {
   "cell_type": "markdown",
   "id": "81bcda42",
   "metadata": {},
   "source": [
    "데이터 매핑의 예"
   ]
  },
  {
   "cell_type": "code",
   "execution_count": null,
   "id": "8f1f7f01",
   "metadata": {},
   "outputs": [],
   "source": [
    "with db_cursor() as cursor:\n",
    "    cursor.execute(\"SELECT * FROM log\")\n",
    "    rows_date = crusor.fetchall()\n",
    "#     for row in cursor:\n",
    "#         row[0] #id\n",
    "#         row[1] #message\n",
    "#         row[2] #chrome\n",
    "#        print(now)\n",
    "rows_data"
   ]
  },
  {
   "cell_type": "markdown",
   "id": "8e99dcfd",
   "metadata": {},
   "source": [
    "dict으로의 변환\n",
    "\n",
    "namedtuple"
   ]
  },
  {
   "cell_type": "code",
   "execution_count": null,
   "id": "1c7dfe85",
   "metadata": {},
   "outputs": [],
   "source": [
    "from collections import namedtuple\n",
    "\n",
    "Log = namedtuple('Log','id message browser')"
   ]
  },
  {
   "cell_type": "code",
   "execution_count": null,
   "id": "c72fd285",
   "metadata": {},
   "outputs": [],
   "source": [
    "log = (1, 'message', 'chrome')\n",
    "print (log[0])\n",
    "print (log[1])\n",
    "print (log[2])"
   ]
  },
  {
   "cell_type": "code",
   "execution_count": null,
   "id": "9afdd225",
   "metadata": {},
   "outputs": [],
   "source": []
  },
  {
   "cell_type": "code",
   "execution_count": null,
   "id": "6a6596aa",
   "metadata": {},
   "outputs": [],
   "source": [
    "log.id, log.message, log.browser"
   ]
  },
  {
   "cell_type": "code",
   "execution_count": null,
   "id": "77b64761",
   "metadata": {},
   "outputs": [],
   "source": []
  },
  {
   "cell_type": "code",
   "execution_count": null,
   "id": "bdf2b807",
   "metadata": {},
   "outputs": [],
   "source": [
    "with db_cursor() as cursor:\n",
    "    cursor.execute(\"SELECT * FROM log\")\n",
    "    rows_data = [\n",
    "        Log(*row)\n",
    "        for row in cursor.fetchall())\n",
    "    ]\n",
    "    print(cursor.fetchall())"
   ]
  },
  {
   "cell_type": "code",
   "execution_count": null,
   "id": "76cd621f",
   "metadata": {},
   "outputs": [],
   "source": []
  },
  {
   "cell_type": "code",
   "execution_count": null,
   "id": "b25dd875",
   "metadata": {},
   "outputs": [],
   "source": []
  },
  {
   "cell_type": "code",
   "execution_count": null,
   "id": "a8d13abe",
   "metadata": {},
   "outputs": [],
   "source": []
  },
  {
   "cell_type": "code",
   "execution_count": null,
   "id": "09142c2b",
   "metadata": {},
   "outputs": [],
   "source": []
  },
  {
   "cell_type": "code",
   "execution_count": null,
   "id": "3795d815",
   "metadata": {},
   "outputs": [],
   "source": []
  },
  {
   "cell_type": "code",
   "execution_count": null,
   "id": "de76ef45",
   "metadata": {},
   "outputs": [],
   "source": []
  },
  {
   "cell_type": "code",
   "execution_count": null,
   "id": "1106b8ae",
   "metadata": {},
   "outputs": [],
   "source": []
  },
  {
   "cell_type": "code",
   "execution_count": null,
   "id": "c08ffa62",
   "metadata": {},
   "outputs": [],
   "source": []
  }
 ],
 "metadata": {
  "kernelspec": {
   "display_name": "Python 3 (ipykernel)",
   "language": "python",
   "name": "python3"
  },
  "language_info": {
   "codemirror_mode": {
    "name": "ipython",
    "version": 3
   },
   "file_extension": ".py",
   "mimetype": "text/x-python",
   "name": "python",
   "nbconvert_exporter": "python",
   "pygments_lexer": "ipython3",
   "version": "3.10.0"
  }
 },
 "nbformat": 4,
 "nbformat_minor": 5
}
